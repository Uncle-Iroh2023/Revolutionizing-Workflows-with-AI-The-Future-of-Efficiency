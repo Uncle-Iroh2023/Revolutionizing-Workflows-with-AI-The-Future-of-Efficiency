{
 "cells": [
  {
   "cell_type": "markdown",
   "id": "c7cf3ad0",
   "metadata": {},
   "source": [
    "## Revolutionizing Workflows with AI The Future of Efficiency\n",
    "### CyberSheild 2023 - ShieldCon\n",
    "#### Demo"
   ]
  },
  {
   "cell_type": "code",
   "execution_count": null,
   "id": "f6ce3b9b",
   "metadata": {},
   "outputs": [],
   "source": [
    "import os\n",
    "\n",
    "from langchain.document_loaders import UnstructuredPDFLoader, OnlinePDFLoader, PyPDFLoader\n",
    "from langchain.text_splitter import RecursiveCharacterTextSplitter\n",
    "from langchain.vectorstores import Pinecone\n",
    "from langchain.embeddings.openai import OpenAIEmbeddings\n",
    "import pdf2image\n",
    "import openai\n",
    "import pinecone\n",
    "import tqdm\n",
    "\n",
    "from langchain.llms import OpenAI\n",
    "from langchain.chains.question_answering import load_qa_chain\n",
    "\n",
    "import json"
   ]
  },
  {
   "cell_type": "code",
   "execution_count": null,
   "id": "8e87290f",
   "metadata": {},
   "outputs": [],
   "source": [
    "OPENAI_API_KEY=\"\"\n",
    "PINECONE_API_KEY=\"\"\n",
    "PINECONE_API_ENV=\"\"\n",
    "INDEX_NAME=\"\"\n",
    "TEST=\"TEST123\""
   ]
  },
  {
   "cell_type": "markdown",
   "id": "3bd230a5",
   "metadata": {},
   "source": [
    "# Load your Data"
   ]
  },
  {
   "cell_type": "code",
   "execution_count": null,
   "id": "89229358",
   "metadata": {},
   "outputs": [],
   "source": [
    "print(TEST)"
   ]
  },
  {
   "cell_type": "code",
   "execution_count": null,
   "id": "d42fbad3",
   "metadata": {},
   "outputs": [],
   "source": [
    "loader = PyPDFLoader(\"./cybersecurity-report-202109.pdf\")\n",
    "data = loader.load()\n",
    "data"
   ]
  },
  {
   "cell_type": "markdown",
   "id": "f56429c5",
   "metadata": {},
   "source": [
    "## Chunk your data up into smaller documents"
   ]
  },
  {
   "cell_type": "code",
   "execution_count": null,
   "id": "3aeb25e8",
   "metadata": {},
   "outputs": [],
   "source": [
    "# Note: If you're using PyPDFLoader then we'll be splitting for the 2nd time.\n",
    "# This is optional, test out on your own data.\n",
    "\n",
    "text_splitter = RecursiveCharacterTextSplitter(chunk_size=1000, chunk_overlap=0)\n",
    "texts = text_splitter.split_documents(data)\n",
    "print (f'Now you have {len(texts)} documents')"
   ]
  },
  {
   "cell_type": "markdown",
   "id": "95fb5665",
   "metadata": {},
   "source": [
    "## Create embeddings of your documents to get ready for semantic search"
   ]
  },
  {
   "cell_type": "code",
   "execution_count": null,
   "id": "446c4c62",
   "metadata": {},
   "outputs": [],
   "source": [
    "embeddings = OpenAIEmbeddings(openai_api_key=OPENAI_API_KEY)"
   ]
  },
  {
   "cell_type": "code",
   "execution_count": null,
   "id": "644e6f47",
   "metadata": {},
   "outputs": [],
   "source": [
    "# initialize pinecone\n",
    "pinecone.init(\n",
    "    api_key=PINECONE_API_KEY,  # find at app.pinecone.io\n",
    "    environment=PINECONE_API_ENV  # next to api key in console\n",
    ")\n",
    "index_name = INDEX_NAME # put in the name of your pinecone index here"
   ]
  },
  {
   "cell_type": "code",
   "execution_count": null,
   "id": "8439d4c3",
   "metadata": {},
   "outputs": [],
   "source": [
    "docsearch = Pinecone.from_texts([t.page_content for t in texts], embeddings, index_name=index_name)"
   ]
  },
  {
   "cell_type": "code",
   "execution_count": null,
   "id": "2f2b30c0",
   "metadata": {},
   "outputs": [],
   "source": [
    "query = \"What specific initiatives has the CISO introduced in order to improve the Board's cybersecurity and privacy processes?\"\n",
    "docs = docsearch.similarity_search(query)\n",
    "docs"
   ]
  },
  {
   "cell_type": "markdown",
   "id": "daf63f28",
   "metadata": {},
   "source": [
    "## Aquery the doc to get answers"
   ]
  },
  {
   "cell_type": "code",
   "execution_count": null,
   "id": "3313e3b2",
   "metadata": {},
   "outputs": [],
   "source": [
    "llm = OpenAI(temperature=0, openai_api_key=OPENAI_API_KEY)\n",
    "chain = load_qa_chain(llm, chain_type=\"stuff\")"
   ]
  },
  {
   "cell_type": "code",
   "execution_count": null,
   "id": "222e17d4",
   "metadata": {},
   "outputs": [],
   "source": [
    "query = \"Please summarize this document for me\"\n",
    "docs = docsearch.similarity_search(query)"
   ]
  },
  {
   "cell_type": "code",
   "execution_count": null,
   "id": "11a99771",
   "metadata": {},
   "outputs": [],
   "source": [
    "chain.run(input_documents=docs, question=query)"
   ]
  },
  {
   "cell_type": "code",
   "execution_count": null,
   "id": "d45c3828",
   "metadata": {},
   "outputs": [],
   "source": []
  }
 ],
 "metadata": {
  "kernelspec": {
   "display_name": "Python 3 (ipykernel)",
   "language": "python",
   "name": "python3"
  },
  "language_info": {
   "codemirror_mode": {
    "name": "ipython",
    "version": 3
   },
   "file_extension": ".py",
   "mimetype": "text/x-python",
   "name": "python",
   "nbconvert_exporter": "python",
   "pygments_lexer": "ipython3",
   "version": "3.10.10"
  }
 },
 "nbformat": 4,
 "nbformat_minor": 5
}
